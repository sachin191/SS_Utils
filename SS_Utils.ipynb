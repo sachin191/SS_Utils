{
 "cells": [
  {
   "cell_type": "code",
   "execution_count": 18,
   "id": "b0c91508",
   "metadata": {},
   "outputs": [],
   "source": [
    "import os\n",
    "def invoke_jupyter():\n",
    "    os.chdir(\"D:/Sachin\")\n",
    "    os.system(\"Start-Job -ScriptBlock{jupyter notebook D:\\Sachin}\")\n",
    "    # os.system(\"Get-Job\")\n",
    "    # os.system(\"Get-Job -Name Job3\")\n",
    "    # os.system(\"stop-Job -Name Job3\")    \n",
    "    return"
   ]
  },
  {
   "cell_type": "code",
   "execution_count": 19,
   "id": "8ae88eb8",
   "metadata": {},
   "outputs": [
    {
     "data": {
      "text/plain": [
       "'D:\\\\Sachin\\\\Utils\\\\SS_Utils'"
      ]
     },
     "execution_count": 19,
     "metadata": {},
     "output_type": "execute_result"
    }
   ],
   "source": [
    "import os\n",
    "os.getcwd()"
   ]
  },
  {
   "cell_type": "code",
   "execution_count": null,
   "id": "b5cf7569",
   "metadata": {},
   "outputs": [],
   "source": []
  },
  {
   "cell_type": "code",
   "execution_count": null,
   "id": "97a3f668",
   "metadata": {},
   "outputs": [],
   "source": []
  }
 ],
 "metadata": {
  "kernelspec": {
   "display_name": "Python 3 (ipykernel)",
   "language": "python",
   "name": "python3"
  },
  "language_info": {
   "codemirror_mode": {
    "name": "ipython",
    "version": 3
   },
   "file_extension": ".py",
   "mimetype": "text/x-python",
   "name": "python",
   "nbconvert_exporter": "python",
   "pygments_lexer": "ipython3",
   "version": "3.9.13"
  }
 },
 "nbformat": 4,
 "nbformat_minor": 5
}
